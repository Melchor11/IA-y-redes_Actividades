{
  "nbformat": 4,
  "nbformat_minor": 0,
  "metadata": {
    "colab": {
      "provenance": []
    },
    "kernelspec": {
      "name": "python3",
      "display_name": "Python 3"
    },
    "language_info": {
      "name": "python"
    }
  },
  "cells": [
    {
      "cell_type": "code",
      "execution_count": null,
      "metadata": {
        "id": "rVz-USKodtS_"
      },
      "outputs": [],
      "source": []
    },
    {
      "cell_type": "markdown",
      "source": [
        "Ejercicios en Python.\n",
        "\n",
        "Alumno:Angel Gabriel Melchor Salinas \n",
        "\n",
        "Matricula:1974670\n",
        "\n",
        "Hora:N1"
      ],
      "metadata": {
        "id": "JrwldCFgfQIZ"
      }
    },
    {
      "cell_type": "code",
      "source": [
        "# 1._Desarrolla un algoritmo que le pida al usuario por su nombre y que lo salude con su nombre, excepto si se llama “Ana”, “Juan”, y “Pedro”.\n",
        "nombre = input(\"¿Cuál es tu nombre? (en minusculas por favor) \")\n",
        "\n",
        "if nombre in [\"ana\", \"juan\", \"pedro\"]:\n",
        "    print(\"Lo siento, no puedo saludarte.\")\n",
        "else:\n",
        "    print(\"Hola,\", nombre + \"!\")\n"
      ],
      "metadata": {
        "colab": {
          "base_uri": "https://localhost:8080/"
        },
        "id": "GhlmEGjugAPF",
        "outputId": "1f4ebf99-5b4b-40f1-d6f8-8fd1a71044ac"
      },
      "execution_count": 18,
      "outputs": [
        {
          "output_type": "stream",
          "name": "stdout",
          "text": [
            "¿Cuál es tu nombre? (en minusculas por favor) angel\n",
            "Hola, angel!\n"
          ]
        }
      ]
    },
    {
      "cell_type": "code",
      "source": [
        "#Desarrolla un algoritmo que por medio de una función, le pida al usuario una lista de N elementos y como resultado invierta el sentido de la lista. l\n",
        "def invertir_lista(lista):\n",
        "    \"\"\"\n",
        "    Esta función recibe una lista y devuelve una nueva lista con los mismos elementos pero en sentido inverso.\n",
        "    \"\"\"\n",
        "    lista_invertida = lista[::-1]\n",
        "    return lista_invertida\n",
        "\n",
        "# Pedir al usuario una lista de N elementos\n",
        "n = int(input(\"¿Cuántos elementos tiene tu lista? \"))\n",
        "lista_original = []\n",
        "for i in range(n):\n",
        "    elemento = input(\"Ingresa el elemento #\" + str(i+1) + \": \")\n",
        "    lista_original.append(elemento)\n",
        "\n",
        "# Invertir la lista utilizando la función\n",
        "lista_invertida = invertir_lista(lista_original)\n",
        "\n",
        "# Imprimir la lista original y la lista invertida\n",
        "print(\"La lista original es:\", lista_original)\n",
        "print(\"La lista invertida es:\", lista_invertida)"
      ],
      "metadata": {
        "colab": {
          "base_uri": "https://localhost:8080/"
        },
        "id": "DkRHs6VrSLc_",
        "outputId": "f700f9df-9f2f-48e7-f0f0-e84d4dc359fd"
      },
      "execution_count": 19,
      "outputs": [
        {
          "output_type": "stream",
          "name": "stdout",
          "text": [
            "¿Cuántos elementos tiene tu lista? 10\n",
            "Ingresa el elemento #1: sandia\n",
            "Ingresa el elemento #2: limon\n",
            "Ingresa el elemento #3: pera\n",
            "Ingresa el elemento #4: manzana\n",
            "Ingresa el elemento #5: melon\n",
            "Ingresa el elemento #6: naranja\n",
            "Ingresa el elemento #7: pera\n",
            "Ingresa el elemento #8: lima\n",
            "Ingresa el elemento #9: platano\n",
            "Ingresa el elemento #10: nuez\n",
            "La lista original es: ['sandia', 'limon', 'pera', 'manzana', 'melon', 'naranja', 'pera', 'lima', 'platano', 'nuez']\n",
            "La lista invertida es: ['nuez', 'platano', 'lima', 'pera', 'naranja', 'melon', 'manzana', 'pera', 'limon', 'sandia']\n"
          ]
        }
      ]
    },
    {
      "cell_type": "code",
      "source": [
        "# Pedir al usuario la cantidad de números de la serie de Fibonacci que desea generar\n",
        "n = int(input(\"¿Cuántos números de la serie de Fibonacci deseas generar? \"))\n",
        "\n",
        "# Inicializar las dos primeras variables de la serie\n",
        "fibonacci = [0, 1]\n",
        "\n",
        "# Generar la serie de Fibonacci utilizando un ciclo for\n",
        "for i in range(2, n):\n",
        "    # Cada número de la serie es la suma de los dos anteriores\n",
        "    siguiente_numero = fibonacci[i-1] + fibonacci[i-2]\n",
        "    # Agregar el nuevo número a la lista\n",
        "    fibonacci.append(siguiente_numero)\n",
        "\n",
        "# Imprimir la serie de Fibonacci generada\n",
        "print(\"La serie de Fibonacci de\", n, \"números es:\", fibonacci)"
      ],
      "metadata": {
        "colab": {
          "base_uri": "https://localhost:8080/"
        },
        "id": "f7wi_4tiYbwR",
        "outputId": "1909cfe4-4903-47ee-843d-cb8257619f7e"
      },
      "execution_count": 15,
      "outputs": [
        {
          "output_type": "stream",
          "name": "stdout",
          "text": [
            "¿Cuántos números de la serie de Fibonacci deseas generar? 8\n",
            "La serie de Fibonacci de 8 números es: [0, 1, 1, 2, 3, 5, 8, 13]\n"
          ]
        }
      ]
    }
  ]
}